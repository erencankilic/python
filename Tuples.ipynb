{
 "cells": [
  {
   "cell_type": "code",
   "execution_count": 5,
   "id": "399b884c",
   "metadata": {},
   "outputs": [],
   "source": [
    "myList = [10,\"a\",\"b\",3.15]"
   ]
  },
  {
   "cell_type": "code",
   "execution_count": 7,
   "id": "cdecf130",
   "metadata": {},
   "outputs": [],
   "source": [
    "myList[1] = 100"
   ]
  },
  {
   "cell_type": "code",
   "execution_count": 8,
   "id": "147c040e",
   "metadata": {},
   "outputs": [
    {
     "data": {
      "text/plain": [
       "[10, 100, 'b', 3.15]"
      ]
     },
     "execution_count": 8,
     "metadata": {},
     "output_type": "execute_result"
    }
   ],
   "source": [
    "myList"
   ]
  },
  {
   "cell_type": "code",
   "execution_count": 9,
   "id": "f9ee64a8",
   "metadata": {},
   "outputs": [],
   "source": [
    "#tuples"
   ]
  },
  {
   "cell_type": "code",
   "execution_count": 10,
   "id": "61f1f02c",
   "metadata": {},
   "outputs": [],
   "source": [
    "myTuple = (10,20,30,\"a\",\"b\")"
   ]
  },
  {
   "cell_type": "code",
   "execution_count": 11,
   "id": "b2c09b32",
   "metadata": {},
   "outputs": [
    {
     "data": {
      "text/plain": [
       "(10, 20, 30, 'a', 'b')"
      ]
     },
     "execution_count": 11,
     "metadata": {},
     "output_type": "execute_result"
    }
   ],
   "source": [
    "myTuple"
   ]
  },
  {
   "cell_type": "code",
   "execution_count": 13,
   "id": "c9919e31",
   "metadata": {},
   "outputs": [],
   "source": [
    "#myTuple[0] = 100 (değiştirilemez!)"
   ]
  },
  {
   "cell_type": "code",
   "execution_count": 14,
   "id": "f84198da",
   "metadata": {},
   "outputs": [
    {
     "data": {
      "text/plain": [
       "3"
      ]
     },
     "execution_count": 14,
     "metadata": {},
     "output_type": "execute_result"
    }
   ],
   "source": [
    "myTuple.index(\"a\")"
   ]
  },
  {
   "cell_type": "code",
   "execution_count": 15,
   "id": "b61ce6fb",
   "metadata": {},
   "outputs": [
    {
     "data": {
      "text/plain": [
       "1"
      ]
     },
     "execution_count": 15,
     "metadata": {},
     "output_type": "execute_result"
    }
   ],
   "source": [
    "myTuple.count(\"a\")"
   ]
  },
  {
   "cell_type": "code",
   "execution_count": 16,
   "id": "357eb7a6",
   "metadata": {},
   "outputs": [],
   "source": [
    "resultTuple = (10,190,670)"
   ]
  },
  {
   "cell_type": "code",
   "execution_count": 17,
   "id": "37f3003e",
   "metadata": {},
   "outputs": [
    {
     "data": {
      "text/plain": [
       "(10, 190, 670)"
      ]
     },
     "execution_count": 17,
     "metadata": {},
     "output_type": "execute_result"
    }
   ],
   "source": [
    "resultTuple"
   ]
  },
  {
   "cell_type": "code",
   "execution_count": 18,
   "id": "dd2d2be4",
   "metadata": {},
   "outputs": [],
   "source": [
    "resultList = list(resultTuple)"
   ]
  },
  {
   "cell_type": "code",
   "execution_count": 19,
   "id": "3131e45a",
   "metadata": {},
   "outputs": [
    {
     "data": {
      "text/plain": [
       "[10, 190, 670]"
      ]
     },
     "execution_count": 19,
     "metadata": {},
     "output_type": "execute_result"
    }
   ],
   "source": [
    "resultList"
   ]
  },
  {
   "cell_type": "code",
   "execution_count": null,
   "id": "6d2bdb82",
   "metadata": {},
   "outputs": [],
   "source": [
    " "
   ]
  }
 ],
 "metadata": {
  "kernelspec": {
   "display_name": "Python 3 (ipykernel)",
   "language": "python",
   "name": "python3"
  },
  "language_info": {
   "codemirror_mode": {
    "name": "ipython",
    "version": 3
   },
   "file_extension": ".py",
   "mimetype": "text/x-python",
   "name": "python",
   "nbconvert_exporter": "python",
   "pygments_lexer": "ipython3",
   "version": "3.11.4"
  }
 },
 "nbformat": 4,
 "nbformat_minor": 5
}
