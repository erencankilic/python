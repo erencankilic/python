{
 "cells": [
  {
   "cell_type": "code",
   "execution_count": 3,
   "id": "d472a63f",
   "metadata": {},
   "outputs": [],
   "source": [
    "fitness_dictionary = {\"squad\":10,\"dumbell curl\":20,\"bench press\":15}"
   ]
  },
  {
   "cell_type": "code",
   "execution_count": 4,
   "id": "bb132939",
   "metadata": {},
   "outputs": [
    {
     "data": {
      "text/plain": [
       "dict_values([10, 20, 15])"
      ]
     },
     "execution_count": 4,
     "metadata": {},
     "output_type": "execute_result"
    }
   ],
   "source": [
    "fitness_dictionary.values()"
   ]
  },
  {
   "cell_type": "code",
   "execution_count": 6,
   "id": "a26e5d73",
   "metadata": {},
   "outputs": [
    {
     "data": {
      "text/plain": [
       "dict_keys(['squad', 'dumbell curl', 'bench press'])"
      ]
     },
     "execution_count": 6,
     "metadata": {},
     "output_type": "execute_result"
    }
   ],
   "source": [
    "fitness_dictionary.keys()"
   ]
  },
  {
   "cell_type": "code",
   "execution_count": 7,
   "id": "22e1899a",
   "metadata": {},
   "outputs": [
    {
     "data": {
      "text/plain": [
       "['squad', 'dumbell curl', 'bench press']"
      ]
     },
     "execution_count": 7,
     "metadata": {},
     "output_type": "execute_result"
    }
   ],
   "source": [
    "list(fitness_dictionary.keys())"
   ]
  },
  {
   "cell_type": "code",
   "execution_count": 8,
   "id": "867b4b17",
   "metadata": {},
   "outputs": [
    {
     "data": {
      "text/plain": [
       "[10, 20, 15]"
      ]
     },
     "execution_count": 8,
     "metadata": {},
     "output_type": "execute_result"
    }
   ],
   "source": [
    "list(fitness_dictionary.values())"
   ]
  },
  {
   "cell_type": "code",
   "execution_count": 10,
   "id": "72909a1b",
   "metadata": {},
   "outputs": [
    {
     "data": {
      "text/plain": [
       "0"
      ]
     },
     "execution_count": 10,
     "metadata": {},
     "output_type": "execute_result"
    }
   ],
   "source": [
    "fitness_dictionary.get(\"squade\",0) #yazılanın değeri varsa veriyor yoksa 0 "
   ]
  },
  {
   "cell_type": "code",
   "execution_count": 11,
   "id": "d24da56a",
   "metadata": {},
   "outputs": [],
   "source": [
    "my_dictionary = {100:\"a\",200:\"b\",300:\"c\"}"
   ]
  },
  {
   "cell_type": "code",
   "execution_count": 12,
   "id": "c7c475c0",
   "metadata": {},
   "outputs": [
    {
     "data": {
      "text/plain": [
       "dict_values(['a', 'b', 'c'])"
      ]
     },
     "execution_count": 12,
     "metadata": {},
     "output_type": "execute_result"
    }
   ],
   "source": [
    "my_dictionary.values()"
   ]
  },
  {
   "cell_type": "code",
   "execution_count": 13,
   "id": "c6ad5b6e",
   "metadata": {},
   "outputs": [
    {
     "data": {
      "text/plain": [
       "dict_keys([100, 200, 300])"
      ]
     },
     "execution_count": 13,
     "metadata": {},
     "output_type": "execute_result"
    }
   ],
   "source": [
    "my_dictionary.keys()"
   ]
  },
  {
   "cell_type": "code",
   "execution_count": 14,
   "id": "4fa41783",
   "metadata": {},
   "outputs": [],
   "source": [
    "#ilk yazılan değerler keys ikinci yazılanlar values olur her zaman!"
   ]
  },
  {
   "cell_type": "code",
   "execution_count": 15,
   "id": "7ea86fef",
   "metadata": {},
   "outputs": [],
   "source": [
    "my_mixed_dictionary = {100:\"a\",\"b\":200}"
   ]
  },
  {
   "cell_type": "code",
   "execution_count": 16,
   "id": "c6e9f8cc",
   "metadata": {},
   "outputs": [
    {
     "data": {
      "text/plain": [
       "[100, 'b']"
      ]
     },
     "execution_count": 16,
     "metadata": {},
     "output_type": "execute_result"
    }
   ],
   "source": [
    "list(my_mixed_dictionary.keys())"
   ]
  },
  {
   "cell_type": "code",
   "execution_count": 17,
   "id": "264748bd",
   "metadata": {},
   "outputs": [
    {
     "data": {
      "text/plain": [
       "['a', 200]"
      ]
     },
     "execution_count": 17,
     "metadata": {},
     "output_type": "execute_result"
    }
   ],
   "source": [
    "list(my_mixed_dictionary.values())"
   ]
  },
  {
   "cell_type": "code",
   "execution_count": 18,
   "id": "06f9b5aa",
   "metadata": {},
   "outputs": [],
   "source": [
    "my_mixed_dictionary2 = {\n",
    "    \"key1\":100,\"key2\":\"hello\",\"key3\":[10,20,30],\"key4\":3.17,\"key5\":\"hello world\"\n",
    "}"
   ]
  },
  {
   "cell_type": "code",
   "execution_count": 19,
   "id": "25a362b7",
   "metadata": {},
   "outputs": [
    {
     "data": {
      "text/plain": [
       "{'key1': 100,\n",
       " 'key2': 'hello',\n",
       " 'key3': [10, 20, 30],\n",
       " 'key4': 3.17,\n",
       " 'key5': 'hello world'}"
      ]
     },
     "execution_count": 19,
     "metadata": {},
     "output_type": "execute_result"
    }
   ],
   "source": [
    "my_mixed_dictionary2"
   ]
  },
  {
   "cell_type": "code",
   "execution_count": 20,
   "id": "1a00b31e",
   "metadata": {},
   "outputs": [
    {
     "data": {
      "text/plain": [
       "[100, 'hello', [10, 20, 30], 3.17, 'hello world']"
      ]
     },
     "execution_count": 20,
     "metadata": {},
     "output_type": "execute_result"
    }
   ],
   "source": [
    "list(my_mixed_dictionary2.values())"
   ]
  },
  {
   "cell_type": "code",
   "execution_count": 21,
   "id": "22eb2637",
   "metadata": {},
   "outputs": [
    {
     "data": {
      "text/plain": [
       "['key1', 'key2', 'key3', 'key4', 'key5']"
      ]
     },
     "execution_count": 21,
     "metadata": {},
     "output_type": "execute_result"
    }
   ],
   "source": [
    "list(my_mixed_dictionary2.keys())"
   ]
  },
  {
   "cell_type": "code",
   "execution_count": 24,
   "id": "910bb8dc",
   "metadata": {},
   "outputs": [],
   "source": [
    "last_dictionary = {\n",
    "    \"k1\":10,\n",
    "    \"k2\":[10,20,30,40,50],\n",
    "    \"k3\":\"Hi sorry for that\",\n",
    "    \"k4\":{\"a\":100,\"b\":200}\n",
    "}"
   ]
  },
  {
   "cell_type": "code",
   "execution_count": 25,
   "id": "c0f2313c",
   "metadata": {},
   "outputs": [
    {
     "data": {
      "text/plain": [
       "[10, [10, 20, 30, 40, 50], 'Hi sorry for that', {'a': 100, 'b': 200}]"
      ]
     },
     "execution_count": 25,
     "metadata": {},
     "output_type": "execute_result"
    }
   ],
   "source": [
    "list(last_dictionary.values())"
   ]
  },
  {
   "cell_type": "code",
   "execution_count": 26,
   "id": "01d2c972",
   "metadata": {},
   "outputs": [
    {
     "data": {
      "text/plain": [
       "['k1', 'k2', 'k3', 'k4']"
      ]
     },
     "execution_count": 26,
     "metadata": {},
     "output_type": "execute_result"
    }
   ],
   "source": [
    "list(last_dictionary.keys())"
   ]
  },
  {
   "cell_type": "code",
   "execution_count": 27,
   "id": "325daa49",
   "metadata": {},
   "outputs": [
    {
     "data": {
      "text/plain": [
       "{'k1': 10,\n",
       " 'k2': [10, 20, 30, 40, 50],\n",
       " 'k3': 'Hi sorry for that',\n",
       " 'k4': {'a': 100, 'b': 200}}"
      ]
     },
     "execution_count": 27,
     "metadata": {},
     "output_type": "execute_result"
    }
   ],
   "source": [
    "last_dictionary"
   ]
  },
  {
   "cell_type": "code",
   "execution_count": 30,
   "id": "5faae90c",
   "metadata": {},
   "outputs": [
    {
     "data": {
      "text/plain": [
       "200"
      ]
     },
     "execution_count": 30,
     "metadata": {},
     "output_type": "execute_result"
    }
   ],
   "source": [
    "last_dictionary[\"k4\"][\"b\"]"
   ]
  },
  {
   "cell_type": "code",
   "execution_count": 31,
   "id": "609f6ceb",
   "metadata": {},
   "outputs": [
    {
     "data": {
      "text/plain": [
       "30"
      ]
     },
     "execution_count": 31,
     "metadata": {},
     "output_type": "execute_result"
    }
   ],
   "source": [
    "last_dictionary[\"k2\"][2]"
   ]
  },
  {
   "cell_type": "code",
   "execution_count": null,
   "id": "b20df446",
   "metadata": {},
   "outputs": [],
   "source": []
  }
 ],
 "metadata": {
  "kernelspec": {
   "display_name": "Python 3 (ipykernel)",
   "language": "python",
   "name": "python3"
  },
  "language_info": {
   "codemirror_mode": {
    "name": "ipython",
    "version": 3
   },
   "file_extension": ".py",
   "mimetype": "text/x-python",
   "name": "python",
   "nbconvert_exporter": "python",
   "pygments_lexer": "ipython3",
   "version": "3.11.4"
  }
 },
 "nbformat": 4,
 "nbformat_minor": 5
}
