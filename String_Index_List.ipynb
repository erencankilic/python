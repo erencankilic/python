{
 "cells": [
  {
   "cell_type": "markdown",
   "id": "c39b0163",
   "metadata": {},
   "source": [
    "# Strings"
   ]
  },
  {
   "cell_type": "code",
   "execution_count": null,
   "id": "c7a9ba36",
   "metadata": {},
   "outputs": [],
   "source": [
    "name = \"Eren Can Kılıç\""
   ]
  },
  {
   "cell_type": "code",
   "execution_count": 18,
   "id": "8108c564",
   "metadata": {},
   "outputs": [
    {
     "data": {
      "text/plain": [
       "1"
      ]
     },
     "execution_count": 18,
     "metadata": {},
     "output_type": "execute_result"
    }
   ],
   "source": [
    "name.count(\"e\")"
   ]
  },
  {
   "cell_type": "code",
   "execution_count": 19,
   "id": "db7a6f0b",
   "metadata": {},
   "outputs": [
    {
     "name": "stdout",
     "output_type": "stream",
     "text": [
      "Help on built-in function count:\n",
      "\n",
      "count(...) method of builtins.str instance\n",
      "    S.count(sub[, start[, end]]) -> int\n",
      "    \n",
      "    Return the number of non-overlapping occurrences of substring sub in\n",
      "    string S[start:end].  Optional arguments start and end are\n",
      "    interpreted as in slice notation.\n",
      "\n"
     ]
    }
   ],
   "source": [
    "help(name.count)"
   ]
  },
  {
   "cell_type": "code",
   "execution_count": 20,
   "id": "acdc5980",
   "metadata": {},
   "outputs": [
    {
     "data": {
      "text/plain": [
       "'EREN CAN KILIÇ'"
      ]
     },
     "execution_count": 20,
     "metadata": {},
     "output_type": "execute_result"
    }
   ],
   "source": [
    "name.upper()"
   ]
  },
  {
   "cell_type": "code",
   "execution_count": 21,
   "id": "468e1c17",
   "metadata": {},
   "outputs": [
    {
     "data": {
      "text/plain": [
       "'Eren Can Kılıç'"
      ]
     },
     "execution_count": 21,
     "metadata": {},
     "output_type": "execute_result"
    }
   ],
   "source": [
    "name"
   ]
  },
  {
   "cell_type": "code",
   "execution_count": 22,
   "id": "61bdceee",
   "metadata": {},
   "outputs": [],
   "source": [
    "nameUpper = name.upper()"
   ]
  },
  {
   "cell_type": "code",
   "execution_count": null,
   "id": "885c59f6",
   "metadata": {},
   "outputs": [],
   "source": [
    "print(nameUpper)"
   ]
  },
  {
   "cell_type": "code",
   "execution_count": 24,
   "id": "3e2c7bca",
   "metadata": {},
   "outputs": [
    {
     "data": {
      "text/plain": [
       "14"
      ]
     },
     "execution_count": 24,
     "metadata": {},
     "output_type": "execute_result"
    }
   ],
   "source": [
    "len(name)"
   ]
  },
  {
   "cell_type": "code",
   "execution_count": 25,
   "id": "6b8f0081",
   "metadata": {},
   "outputs": [],
   "source": [
    "nameLower = name.lower()"
   ]
  },
  {
   "cell_type": "code",
   "execution_count": 26,
   "id": "6b5cd3df",
   "metadata": {},
   "outputs": [
    {
     "name": "stdout",
     "output_type": "stream",
     "text": [
      "eren can kılıç\n"
     ]
    }
   ],
   "source": [
    "print(nameLower)"
   ]
  },
  {
   "cell_type": "code",
   "execution_count": 29,
   "id": "2be6d9ee",
   "metadata": {},
   "outputs": [
    {
     "name": "stdout",
     "output_type": "stream",
     "text": [
      "eren \n",
      "can \tkılıç \n"
     ]
    }
   ],
   "source": [
    "print(\"eren \\ncan \\tkılıç \")"
   ]
  },
  {
   "cell_type": "markdown",
   "id": "5e547d9e",
   "metadata": {},
   "source": [
    "# index"
   ]
  },
  {
   "cell_type": "code",
   "execution_count": null,
   "id": "b53b75f7",
   "metadata": {},
   "outputs": [],
   "source": [
    "myString = \"how are you!\""
   ]
  },
  {
   "cell_type": "code",
   "execution_count": 36,
   "id": "bab945d6",
   "metadata": {},
   "outputs": [
    {
     "data": {
      "text/plain": [
       "12"
      ]
     },
     "execution_count": 36,
     "metadata": {},
     "output_type": "execute_result"
    }
   ],
   "source": [
    "len(myString)"
   ]
  },
  {
   "cell_type": "code",
   "execution_count": 35,
   "id": "464993b0",
   "metadata": {},
   "outputs": [
    {
     "data": {
      "text/plain": [
       "'e'"
      ]
     },
     "execution_count": 35,
     "metadata": {},
     "output_type": "execute_result"
    }
   ],
   "source": [
    "myString[6]"
   ]
  },
  {
   "cell_type": "code",
   "execution_count": 37,
   "id": "e11fb678",
   "metadata": {},
   "outputs": [
    {
     "data": {
      "text/plain": [
       "'a'"
      ]
     },
     "execution_count": 37,
     "metadata": {},
     "output_type": "execute_result"
    }
   ],
   "source": [
    "myString[4]"
   ]
  },
  {
   "cell_type": "code",
   "execution_count": 40,
   "id": "a7326733",
   "metadata": {},
   "outputs": [],
   "source": [
    "hisName = \"atıl samancıoglu\""
   ]
  },
  {
   "cell_type": "code",
   "execution_count": 43,
   "id": "dca61afd",
   "metadata": {},
   "outputs": [
    {
     "data": {
      "text/plain": [
       "'u'"
      ]
     },
     "execution_count": 43,
     "metadata": {},
     "output_type": "execute_result"
    }
   ],
   "source": [
    "hisName[len(hisName)-1]"
   ]
  },
  {
   "cell_type": "code",
   "execution_count": 45,
   "id": "2cb8d41c",
   "metadata": {},
   "outputs": [
    {
     "data": {
      "text/plain": [
       "'u'"
      ]
     },
     "execution_count": 45,
     "metadata": {},
     "output_type": "execute_result"
    }
   ],
   "source": [
    "hisName[-1]"
   ]
  },
  {
   "cell_type": "code",
   "execution_count": 46,
   "id": "19aa0086",
   "metadata": {},
   "outputs": [],
   "source": [
    "barcode = \"QWEDFXCBK333221357\""
   ]
  },
  {
   "cell_type": "code",
   "execution_count": 49,
   "id": "ef38c8cc",
   "metadata": {},
   "outputs": [],
   "source": [
    "specialwords = barcode[3] + barcode[4]"
   ]
  },
  {
   "cell_type": "code",
   "execution_count": 50,
   "id": "64628fa8",
   "metadata": {},
   "outputs": [
    {
     "name": "stdout",
     "output_type": "stream",
     "text": [
      "DF\n"
     ]
    }
   ],
   "source": [
    "print(specialwords)"
   ]
  },
  {
   "cell_type": "code",
   "execution_count": 53,
   "id": "69c93d42",
   "metadata": {},
   "outputs": [],
   "source": [
    "fullname = \"Eren Can Kılıç \""
   ]
  },
  {
   "cell_type": "code",
   "execution_count": 54,
   "id": "2b42125b",
   "metadata": {},
   "outputs": [
    {
     "data": {
      "text/plain": [
       "' Eren Can Kılıç Eren Can Kılıç Eren Can Kılıç'"
      ]
     },
     "execution_count": 54,
     "metadata": {},
     "output_type": "execute_result"
    }
   ],
   "source": [
    "fullname * 3"
   ]
  },
  {
   "cell_type": "code",
   "execution_count": 57,
   "id": "2b1573c1",
   "metadata": {},
   "outputs": [],
   "source": [
    "#slicing , starting ixdex , stopping index , stepping siz"
   ]
  },
  {
   "cell_type": "code",
   "execution_count": 61,
   "id": "7029423b",
   "metadata": {},
   "outputs": [
    {
     "data": {
      "text/plain": [
       "'FXCBK333221357'"
      ]
     },
     "execution_count": 61,
     "metadata": {},
     "output_type": "execute_result"
    }
   ],
   "source": [
    "barcode[4::]"
   ]
  },
  {
   "cell_type": "code",
   "execution_count": 58,
   "id": "1cd3999d",
   "metadata": {},
   "outputs": [],
   "source": [
    "#barcode[starting index:stopping index:stepping size]"
   ]
  },
  {
   "cell_type": "code",
   "execution_count": 62,
   "id": "58dd18aa",
   "metadata": {},
   "outputs": [
    {
     "data": {
      "text/plain": [
       "'QWED'"
      ]
     },
     "execution_count": 62,
     "metadata": {},
     "output_type": "execute_result"
    }
   ],
   "source": [
    "barcode[:4:]"
   ]
  },
  {
   "cell_type": "code",
   "execution_count": 64,
   "id": "047a1bba",
   "metadata": {},
   "outputs": [
    {
     "data": {
      "text/plain": [
       "'QFK25'"
      ]
     },
     "execution_count": 64,
     "metadata": {},
     "output_type": "execute_result"
    }
   ],
   "source": [
    "barcode[::4] #1.den itibaren 4 artarak yazıyor"
   ]
  },
  {
   "cell_type": "code",
   "execution_count": 65,
   "id": "2fe36093",
   "metadata": {},
   "outputs": [
    {
     "data": {
      "text/plain": [
       "'CB'"
      ]
     },
     "execution_count": 65,
     "metadata": {},
     "output_type": "execute_result"
    }
   ],
   "source": [
    "barcode[6:8]"
   ]
  },
  {
   "cell_type": "code",
   "execution_count": 66,
   "id": "df277abc",
   "metadata": {},
   "outputs": [
    {
     "data": {
      "text/plain": [
       "'EXK'"
      ]
     },
     "execution_count": 66,
     "metadata": {},
     "output_type": "execute_result"
    }
   ],
   "source": [
    "barcode[2:10:3]"
   ]
  },
  {
   "cell_type": "code",
   "execution_count": 67,
   "id": "afdd145a",
   "metadata": {},
   "outputs": [
    {
     "data": {
      "text/plain": [
       "'753122333KBCXFDEWQ'"
      ]
     },
     "execution_count": 67,
     "metadata": {},
     "output_type": "execute_result"
    }
   ],
   "source": [
    "barcode[::-1]"
   ]
  },
  {
   "cell_type": "code",
   "execution_count": null,
   "id": "5806286e",
   "metadata": {},
   "outputs": [],
   "source": [
    "# List"
   ]
  },
  {
   "cell_type": "code",
   "execution_count": null,
   "id": "9d76a745",
   "metadata": {},
   "outputs": [],
   "source": [
    "my_string = \"hello universe\""
   ]
  },
  {
   "cell_type": "code",
   "execution_count": 68,
   "id": "0342cf0c",
   "metadata": {},
   "outputs": [],
   "source": [
    "my_string.split()"
   ]
  },
  {
   "cell_type": "code",
   "execution_count": 71,
   "id": "23a825e8",
   "metadata": {},
   "outputs": [
    {
     "data": {
      "text/plain": [
       "list"
      ]
     },
     "execution_count": 71,
     "metadata": {},
     "output_type": "execute_result"
    }
   ],
   "source": [
    "type(my_string.split())"
   ]
  },
  {
   "cell_type": "markdown",
   "id": "08c865bc",
   "metadata": {},
   "source": [
    "# List"
   ]
  },
  {
   "cell_type": "code",
   "execution_count": 85,
   "id": "b9aeccc3",
   "metadata": {},
   "outputs": [],
   "source": [
    "x = 10\n",
    "y = 20\n",
    "z = 30"
   ]
  },
  {
   "cell_type": "code",
   "execution_count": 122,
   "id": "3daa6e12",
   "metadata": {},
   "outputs": [],
   "source": [
    "myList = [x,y,z,40,50,60,70,80]"
   ]
  },
  {
   "cell_type": "code",
   "execution_count": 123,
   "id": "68882816",
   "metadata": {},
   "outputs": [
    {
     "data": {
      "text/plain": [
       "[10, 20, 30, 40, 50, 60, 70, 80]"
      ]
     },
     "execution_count": 123,
     "metadata": {},
     "output_type": "execute_result"
    }
   ],
   "source": [
    "myList"
   ]
  },
  {
   "cell_type": "code",
   "execution_count": 124,
   "id": "67c439f3",
   "metadata": {},
   "outputs": [
    {
     "data": {
      "text/plain": [
       "list"
      ]
     },
     "execution_count": 124,
     "metadata": {},
     "output_type": "execute_result"
    }
   ],
   "source": [
    "type(myList)"
   ]
  },
  {
   "cell_type": "code",
   "execution_count": 125,
   "id": "88455e29",
   "metadata": {},
   "outputs": [
    {
     "data": {
      "text/plain": [
       "20"
      ]
     },
     "execution_count": 125,
     "metadata": {},
     "output_type": "execute_result"
    }
   ],
   "source": [
    "myList[1]"
   ]
  },
  {
   "cell_type": "code",
   "execution_count": 126,
   "id": "061d4abd",
   "metadata": {},
   "outputs": [],
   "source": [
    "myList[0] = 100"
   ]
  },
  {
   "cell_type": "code",
   "execution_count": 127,
   "id": "415e7115",
   "metadata": {},
   "outputs": [
    {
     "data": {
      "text/plain": [
       "[100, 20, 30, 40, 50, 60, 70, 80]"
      ]
     },
     "execution_count": 127,
     "metadata": {},
     "output_type": "execute_result"
    }
   ],
   "source": [
    "myList"
   ]
  },
  {
   "cell_type": "code",
   "execution_count": 128,
   "id": "9db96808",
   "metadata": {},
   "outputs": [
    {
     "data": {
      "text/plain": [
       "8"
      ]
     },
     "execution_count": 128,
     "metadata": {},
     "output_type": "execute_result"
    }
   ],
   "source": [
    "len(myList)"
   ]
  },
  {
   "cell_type": "code",
   "execution_count": 129,
   "id": "416b2d53",
   "metadata": {},
   "outputs": [
    {
     "data": {
      "text/plain": [
       "80"
      ]
     },
     "execution_count": 129,
     "metadata": {},
     "output_type": "execute_result"
    }
   ],
   "source": [
    "myList[len(myList)-1]"
   ]
  },
  {
   "cell_type": "code",
   "execution_count": 130,
   "id": "4e8182fd",
   "metadata": {},
   "outputs": [
    {
     "data": {
      "text/plain": [
       "80"
      ]
     },
     "execution_count": 130,
     "metadata": {},
     "output_type": "execute_result"
    }
   ],
   "source": [
    "myList[-1]"
   ]
  },
  {
   "cell_type": "code",
   "execution_count": 131,
   "id": "d7e235bf",
   "metadata": {},
   "outputs": [],
   "source": [
    "myList.append(90) #eklemeye yarar"
   ]
  },
  {
   "cell_type": "code",
   "execution_count": 132,
   "id": "c178f61e",
   "metadata": {},
   "outputs": [
    {
     "data": {
      "text/plain": [
       "[100, 20, 30, 40, 50, 60, 70, 80, 90]"
      ]
     },
     "execution_count": 132,
     "metadata": {},
     "output_type": "execute_result"
    }
   ],
   "source": [
    "myList"
   ]
  },
  {
   "cell_type": "code",
   "execution_count": 133,
   "id": "2b60acb4",
   "metadata": {},
   "outputs": [
    {
     "data": {
      "text/plain": [
       "1"
      ]
     },
     "execution_count": 133,
     "metadata": {},
     "output_type": "execute_result"
    }
   ],
   "source": [
    "myList.count(20)"
   ]
  },
  {
   "cell_type": "code",
   "execution_count": 149,
   "id": "1449bd84",
   "metadata": {},
   "outputs": [
    {
     "data": {
      "text/plain": [
       "0"
      ]
     },
     "execution_count": 149,
     "metadata": {},
     "output_type": "execute_result"
    }
   ],
   "source": [
    "myList.index(100)"
   ]
  },
  {
   "cell_type": "code",
   "execution_count": null,
   "id": "b87f187d",
   "metadata": {},
   "outputs": [],
   "source": []
  },
  {
   "cell_type": "code",
   "execution_count": null,
   "id": "abf8ff6a",
   "metadata": {},
   "outputs": [],
   "source": []
  },
  {
   "cell_type": "code",
   "execution_count": null,
   "id": "62186d20",
   "metadata": {},
   "outputs": [],
   "source": []
  }
 ],
 "metadata": {
  "kernelspec": {
   "display_name": "Python 3 (ipykernel)",
   "language": "python",
   "name": "python3"
  },
  "language_info": {
   "codemirror_mode": {
    "name": "ipython",
    "version": 3
   },
   "file_extension": ".py",
   "mimetype": "text/x-python",
   "name": "python",
   "nbconvert_exporter": "python",
   "pygments_lexer": "ipython3",
   "version": "3.11.4"
  }
 },
 "nbformat": 4,
 "nbformat_minor": 5
}
